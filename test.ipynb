{
 "cells": [
  {
   "cell_type": "code",
   "execution_count": 2,
   "metadata": {},
   "outputs": [
    {
     "name": "stdout",
     "output_type": "stream",
     "text": [
      "dataset.json saved to /yuming/CoTr/data/nnUNet_raw_data_base/nnUNet_raw_data/Task071_AbdomenCT/dataset.json\n"
     ]
    }
   ],
   "source": [
    "import os\n",
    "import json\n",
    "\n",
    "# 设置你的 imagesTr 和 labelsTr 路径\n",
    "imagesTr_dir = \"/yuming/CoTr/data/nnUNet_raw_data_base/nnUNet_raw_data/Task071_AbdomenCT/imagesTr\"\n",
    "labelsTr_dir = \"/yuming/CoTr/data/nnUNet_raw_data_base/nnUNet_raw_data/Task071_AbdomenCT/labelsTr\"\n",
    "\n",
    "# 读取 imagesTr 目录下所有 .nii.gz 文件\n",
    "images = sorted([f for f in os.listdir(imagesTr_dir) if f.endswith(\".nii.gz\")])\n",
    "\n",
    "# 自动构建 training 列表\n",
    "training = []\n",
    "for img in images:\n",
    "    # 去掉最后一个 _0000\n",
    "    img_base = img.replace(\"_0000\", \"\").replace(\".nii.gz\", \"\")  # 去掉_0000 和 后缀\n",
    "    img_path = \"./imagesTr/\" + img_base + \".nii.gz\"\n",
    "    label_path = \"./labelsTr/\" + img_base + \".nii.gz\"\n",
    "    training.append({\"image\": img_path, \"label\": label_path})\n",
    "\n",
    "# 创建最终的 dataset.json\n",
    "dataset_json = {\n",
    "    \"name\": \"Dataset701_AbdomenCT\",\n",
    "    \"description\": \"This dataset was from MICCAI FLARE 2022 Challenge...\",\n",
    "    \"tensorImageSize\": \"3D\",\n",
    "    \"reference\": \"MICCAI FLARE 2022\",\n",
    "    \"licence\": \"CC BY-SA 4.0\",\n",
    "    \"release\": \"0.0\",\n",
    "    \"modality\": {\n",
    "        \"0\": \"CT\"\n",
    "    },\n",
    "    \"labels\": {\n",
    "        \"0\": \"background\",\n",
    "        \"1\": \"liver\",\n",
    "        \"2\": \"right kidney\",\n",
    "        \"3\": \"spleen\",\n",
    "        \"4\": \"pancreas\",\n",
    "        \"5\": \"aorta\",\n",
    "        \"6\": \"inferior vena cava\",\n",
    "        \"7\": \"right adrenal gland\",\n",
    "        \"8\": \"left adrenal gland\",\n",
    "        \"9\": \"gallbladder\",\n",
    "        \"10\": \"esophagus\",\n",
    "        \"11\": \"stomach\",\n",
    "        \"12\": \"duodenum\",\n",
    "        \"13\": \"left kidney\"\n",
    "    },\n",
    "    \"numTraining\": len(training),\n",
    "    \"numTest\": 0,\n",
    "    \"training\": training,\n",
    "    \"test\": []\n",
    "}\n",
    "\n",
    "# 保存到 dataset.json\n",
    "output_path = \"/yuming/CoTr/data/nnUNet_raw_data_base/nnUNet_raw_data/Task071_AbdomenCT/dataset.json\"\n",
    "with open(output_path, \"w\") as f:\n",
    "    json.dump(dataset_json, f, indent=4)\n",
    "\n",
    "print(f\"dataset.json saved to {output_path}\")\n"
   ]
  },
  {
   "cell_type": "code",
   "execution_count": null,
   "metadata": {},
   "outputs": [],
   "source": [
    "import pickle\n",
    "with open('/yuming/CoTr/data/splits_final.pkl', 'rb') as f:\n",
    "    plans = pickle.load(f)\n",
    "\n",
    "# 在 plans 里查找 fold 列表，通常叫做 plans['splits'] 或者 plans['folds']\n",
    "print(plans)\n",
    "# print(plans.get('splits') or plans.get('folds'))"
   ]
  }
 ],
 "metadata": {
  "kernelspec": {
   "display_name": "cotr",
   "language": "python",
   "name": "python3"
  },
  "language_info": {
   "codemirror_mode": {
    "name": "ipython",
    "version": 3
   },
   "file_extension": ".py",
   "mimetype": "text/x-python",
   "name": "python",
   "nbconvert_exporter": "python",
   "pygments_lexer": "ipython3",
   "version": "3.7.16"
  }
 },
 "nbformat": 4,
 "nbformat_minor": 2
}
