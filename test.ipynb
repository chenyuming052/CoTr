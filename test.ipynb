{
 "cells": [
  {
   "cell_type": "code",
   "execution_count": 7,
   "metadata": {},
   "outputs": [
    {
     "name": "stdout",
     "output_type": "stream",
     "text": [
      "dataset.json saved to /yuming/CoTr/data/nnUNet_raw_data_base/nnUNet_raw_data/Task072_AbdomenMR/dataset.json\n"
     ]
    }
   ],
   "source": [
    "import os\n",
    "import json\n",
    "\n",
    "# 设置你的 imagesTr 和 labelsTr 路径\n",
    "imagesTr_dir = \"/yuming/CoTr/data/nnUNet_raw_data_base/nnUNet_raw_data/Task072_AbdomenMR/imagesTr\"\n",
    "labelsTr_dir = \"/yuming/CoTr/data/nnUNet_raw_data_base/nnUNet_raw_data/Task072_AbdomenMR/labelsTr\"\n",
    "# imagesTs_dir = \"/yuming/CoTr/data/nnUNet_raw_data_base/nnUNet_raw_data/Task072_AbdomenMR/imagesTs\"\n",
    "\n",
    "# 读取 imagesTr 目录下所有 .nii.gz 文件\n",
    "images = sorted([f for f in os.listdir(imagesTr_dir) if f.endswith(\".nii.gz\")])\n",
    "\n",
    "# 自动构建 training 列表\n",
    "training = []\n",
    "for img in images:\n",
    "    # 去掉最后一个 _0000\n",
    "    img_base = img.replace(\"_0000\", \"\").replace(\".nii.gz\", \"\")  # 去掉_0000 和 后缀\n",
    "    img_path = \"./imagesTr/\" + img_base + \".nii.gz\"\n",
    "    label_path = \"./labelsTr/\" + img_base + \".nii.gz\"\n",
    "    training.append({\"image\": img_path, \"label\": label_path})\n",
    "\n",
    "# # 2. 构建 test 列表\n",
    "# test_images = sorted([f for f in os.listdir(imagesTs_dir) if f.endswith(\".nii.gz\")])\n",
    "# test = []\n",
    "# for img in test_images:\n",
    "#     img_base = img.replace(\"_0000\", \"\").replace(\".nii.gz\", \"\")  # 去掉_0000 和 后缀\n",
    "#     test.append(f\"./imagesTs/{img_base}.nii.gz\")\n",
    "\n",
    "# 创建最终的 dataset.json\n",
    "dataset_json = {\n",
    "    \"name\": \"Dataset702_AMOS2022\",\n",
    "    \"description\": \"This dataset was from MICCAI AMOS 2022 Challenge...\",\n",
    "    \"tensorImageSize\": \"3D\",\n",
    "    \"reference\": \"MICCAI AMOS 2022\",\n",
    "    \"licence\": \"CC BY-SA 4.0\",\n",
    "    \"release\": \"0.0\",\n",
    "    \"modality\": {\n",
    "        \"0\": \"CT\"\n",
    "    },\n",
    "    \"labels\": {\n",
    "        \"0\": \"background\",\n",
    "        \"1\": \"liver\",\n",
    "        \"2\": \"right kidney\",\n",
    "        \"3\": \"spleen\",\n",
    "        \"4\": \"pancreas\",\n",
    "        \"5\": \"aorta\",\n",
    "        \"6\": \"inferior vena cava\",\n",
    "        \"7\": \"right adrenal gland\",\n",
    "        \"8\": \"left adrenal gland\",\n",
    "        \"9\": \"gallbladder\",\n",
    "        \"10\": \"esophagus\",\n",
    "        \"11\": \"stomach\",\n",
    "        \"12\": \"duodenum\",\n",
    "        \"13\": \"left kidney\"\n",
    "    },\n",
    "    \"numTraining\": len(training),\n",
    "    \"numTest\": 0,\n",
    "    \"training\": training,\n",
    "    \"test\": []\n",
    "}\n",
    "\n",
    "# 保存到 dataset.json\n",
    "output_path = \"/yuming/CoTr/data/nnUNet_raw_data_base/nnUNet_raw_data/Task072_AbdomenMR/dataset.json\"\n",
    "with open(output_path, \"w\") as f:\n",
    "    json.dump(dataset_json, f, indent=4)\n",
    "\n",
    "print(f\"dataset.json saved to {output_path}\")\n"
   ]
  },
  {
   "cell_type": "code",
   "execution_count": 6,
   "metadata": {},
   "outputs": [
    {
     "name": "stdout",
     "output_type": "stream",
     "text": [
      "<class 'list'>\n",
      "<class 'collections.OrderedDict'>\n",
      "odict_keys(['train', 'val'])\n",
      "[OrderedDict([('train', ['FLARE22_Tr_0001', 'FLARE22_Tr_0002', 'FLARE22_Tr_0003', 'FLARE22_Tr_0004', 'FLARE22_Tr_0005', 'FLARE22_Tr_0006', 'FLARE22_Tr_0007', 'FLARE22_Tr_0008', 'FLARE22_Tr_0009', 'FLARE22_Tr_0010', 'FLARE22_Tr_0011', 'FLARE22_Tr_0012', 'FLARE22_Tr_0013', 'FLARE22_Tr_0014', 'FLARE22_Tr_0015', 'FLARE22_Tr_0016', 'FLARE22_Tr_0017', 'FLARE22_Tr_0018', 'FLARE22_Tr_0019', 'FLARE22_Tr_0020', 'FLARE22_Tr_0021', 'FLARE22_Tr_0022', 'FLARE22_Tr_0023', 'FLARE22_Tr_0024', 'FLARE22_Tr_0025', 'FLARE22_Tr_0026', 'FLARE22_Tr_0027', 'FLARE22_Tr_0028', 'FLARE22_Tr_0029', 'FLARE22_Tr_0030', 'FLARE22_Tr_0031', 'FLARE22_Tr_0032', 'FLARE22_Tr_0033', 'FLARE22_Tr_0034', 'FLARE22_Tr_0035', 'FLARE22_Tr_0036', 'FLARE22_Tr_0037', 'FLARE22_Tr_0038', 'FLARE22_Tr_0039', 'FLARE22_Tr_0040', 'FLARE22_Tr_0041', 'FLARE22_Tr_0042', 'FLARE22_Tr_0043', 'FLARE22_Tr_0044', 'FLARE22_Tr_0045', 'FLARE22_Tr_0046', 'FLARE22_Tr_0047', 'FLARE22_Tr_0048', 'FLARE22_Tr_0049', 'FLARE22_Tr_0050']), ('val', ['FLARETs_0001', 'FLARETs_0002', 'FLARETs_0003', 'FLARETs_0004', 'FLARETs_0005', 'FLARETs_0006', 'FLARETs_0007', 'FLARETs_0008', 'FLARETs_0009', 'FLARETs_0010', 'FLARETs_0011', 'FLARETs_0012', 'FLARETs_0013', 'FLARETs_0014', 'FLARETs_0015', 'FLARETs_0016', 'FLARETs_0017', 'FLARETs_0018', 'FLARETs_0019', 'FLARETs_0020', 'FLARETs_0021', 'FLARETs_0022', 'FLARETs_0023', 'FLARETs_0024', 'FLARETs_0025', 'FLARETs_0026', 'FLARETs_0027', 'FLARETs_0028', 'FLARETs_0029', 'FLARETs_0030', 'FLARETs_0031', 'FLARETs_0032', 'FLARETs_0033', 'FLARETs_0034', 'FLARETs_0035', 'FLARETs_0036', 'FLARETs_0037', 'FLARETs_0038', 'FLARETs_0039', 'FLARETs_0040', 'FLARETs_0041', 'FLARETs_0042', 'FLARETs_0043', 'FLARETs_0044', 'FLARETs_0045', 'FLARETs_0046', 'FLARETs_0047', 'FLARETs_0048', 'FLARETs_0049', 'FLARETs_0050'])])]\n"
     ]
    }
   ],
   "source": [
    "import pickle\n",
    "with open('/yuming/Task71_AbdomenCT/splits_final.pkl', 'rb') as f:\n",
    "    plans_amos = pickle.load(f)\n",
    "# with open('/yuming/CoTr/data/splits_final.pkl', 'rb') as f:\n",
    "#     plans_BCV = pickle.load(f)\n",
    "# with open('/yuming/CoTr/plans_my_amos.pkl', 'rb') as f:\n",
    "#     plans_my_amos = pickle.load(f)\n",
    "# 在 plans 里查找 fold 列表，通常叫做 plans['splits'] 或者 plans['folds']\n",
    "# print(plans_amos)\n",
    "print(type(plans_amos))           # <class 'list'>\n",
    "print(type(plans_amos[0]))        # <class 'collections.OrderedDict'>\n",
    "print(plans_amos[0].keys())       # odict_keys(['train', 'val'])\n",
    "print(plans_amos)       # odict_keys(['train', 'val'])\n",
    "\n",
    "# print(plans.get('splits') or plans.get('folds'))"
   ]
  },
  {
   "cell_type": "code",
   "execution_count": 5,
   "metadata": {},
   "outputs": [
    {
     "name": "stdout",
     "output_type": "stream",
     "text": [
      "train_ids ['FLARE22_Tr_0001', 'FLARE22_Tr_0002', 'FLARE22_Tr_0003', 'FLARE22_Tr_0004', 'FLARE22_Tr_0005', 'FLARE22_Tr_0006', 'FLARE22_Tr_0007', 'FLARE22_Tr_0008', 'FLARE22_Tr_0009', 'FLARE22_Tr_0010', 'FLARE22_Tr_0011', 'FLARE22_Tr_0012', 'FLARE22_Tr_0013', 'FLARE22_Tr_0014', 'FLARE22_Tr_0015', 'FLARE22_Tr_0016', 'FLARE22_Tr_0017', 'FLARE22_Tr_0018', 'FLARE22_Tr_0019', 'FLARE22_Tr_0020', 'FLARE22_Tr_0021', 'FLARE22_Tr_0022', 'FLARE22_Tr_0023', 'FLARE22_Tr_0024', 'FLARE22_Tr_0025', 'FLARE22_Tr_0026', 'FLARE22_Tr_0027', 'FLARE22_Tr_0028', 'FLARE22_Tr_0029', 'FLARE22_Tr_0030', 'FLARE22_Tr_0031', 'FLARE22_Tr_0032', 'FLARE22_Tr_0033', 'FLARE22_Tr_0034', 'FLARE22_Tr_0035', 'FLARE22_Tr_0036', 'FLARE22_Tr_0037', 'FLARE22_Tr_0038', 'FLARE22_Tr_0039', 'FLARE22_Tr_0040', 'FLARE22_Tr_0041', 'FLARE22_Tr_0042', 'FLARE22_Tr_0043', 'FLARE22_Tr_0044', 'FLARE22_Tr_0045', 'FLARE22_Tr_0046', 'FLARE22_Tr_0047', 'FLARE22_Tr_0048', 'FLARE22_Tr_0049', 'FLARE22_Tr_0050']\n",
      "✔ 已生成 /yuming/Task71_AbdomenCT/splits_final.pkl\n",
      "  train: 50 条 ID，示例：['FLARE22_Tr_0001', 'FLARE22_Tr_0002', 'FLARE22_Tr_0003', 'FLARE22_Tr_0004', 'FLARE22_Tr_0005']\n",
      "  val:   50 条 ID，示例：['FLARETs_0001', 'FLARETs_0002', 'FLARETs_0003', 'FLARETs_0004', 'FLARETs_0005']\n"
     ]
    }
   ],
   "source": [
    "import os\n",
    "import pickle\n",
    "from collections import OrderedDict\n",
    "\n",
    "# —— 配置区 —— #\n",
    "train_dir = \"/yuming/Task72_AbdomenMR/imagesTr\"  # 改为你的训练数据文件夹\n",
    "val_dir   = \"/yuming/Task72_AbdomenMR/labelsTs\"    # 改为你的验证/测试数据文件夹\n",
    "output_path = \"/yuming/Task71_AbdomenCT/splits_final.pkl\"             # 输出文件名\n",
    "# ———————— #\n",
    "\n",
    "def extract_id(fname):\n",
    "    \"\"\"\n",
    "    针对训练图像：去掉 _0000.nii.gz，保留 ID\n",
    "    针对标签文件：去掉 .nii.gz，保留 ID\n",
    "    \"\"\"\n",
    "    base = os.path.basename(fname)\n",
    "    \n",
    "    if base.endswith(\"_0000.nii.gz\"):\n",
    "        return base.replace(\"_0000.nii.gz\", \"\")\n",
    "    elif base.endswith(\".nii.gz\"):\n",
    "        return base.replace(\".nii.gz\", \"\")\n",
    "    else:\n",
    "        return base  # fallback\n",
    "\n",
    "def collect_ids(folder):\n",
    "    ids = set()\n",
    "    for fn in os.listdir(folder):\n",
    "        if fn.lower().endswith(('.nii.gz', '.nii')):\n",
    "            ids.add(extract_id(fn))\n",
    "    return sorted(ids)\n",
    "\n",
    "# 收集\n",
    "train_ids = collect_ids(train_dir)\n",
    "print(\"train_ids\", train_ids)\n",
    "val_ids   = collect_ids(val_dir)\n",
    "\n",
    "# 构造 OrderedDict 列表\n",
    "plans = [\n",
    "    OrderedDict([\n",
    "        (\"train\", train_ids),\n",
    "        (\"val\",   val_ids),\n",
    "    ])\n",
    "]\n",
    "\n",
    "# 序列化到 pkl\n",
    "with open(output_path, 'wb') as f:\n",
    "    pickle.dump(plans, f)\n",
    "\n",
    "print(f\"✔ 已生成 {output_path}\")\n",
    "print(f\"  train: {len(train_ids)} 条 ID，示例：{train_ids[:5]}\")\n",
    "print(f\"  val:   {len(val_ids)} 条 ID，示例：{val_ids[:5]}\")"
   ]
  },
  {
   "cell_type": "code",
   "execution_count": null,
   "metadata": {},
   "outputs": [],
   "source": []
  },
  {
   "cell_type": "code",
   "execution_count": null,
   "metadata": {},
   "outputs": [],
   "source": []
  }
 ],
 "metadata": {
  "kernelspec": {
   "display_name": "cotr",
   "language": "python",
   "name": "python3"
  },
  "language_info": {
   "codemirror_mode": {
    "name": "ipython",
    "version": 3
   },
   "file_extension": ".py",
   "mimetype": "text/x-python",
   "name": "python",
   "nbconvert_exporter": "python",
   "pygments_lexer": "ipython3",
   "version": "3.7.16"
  }
 },
 "nbformat": 4,
 "nbformat_minor": 2
}
